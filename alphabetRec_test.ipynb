{
 "cells": [
  {
   "cell_type": "code",
   "execution_count": 1,
   "metadata": {},
   "outputs": [],
   "source": [
    "# import the MNIST dataset\n",
    "import cv2\n",
    "import numpy as np\n",
    "from keras.models import load_model\n",
    "from collections import deque"
   ]
  },
  {
   "cell_type": "code",
   "execution_count": 2,
   "metadata": {},
   "outputs": [],
   "source": [
    "# Load the model\n",
    "model = load_model('best_model.h5')"
   ]
  },
  {
   "cell_type": "code",
   "execution_count": 3,
   "metadata": {},
   "outputs": [],
   "source": [
    "# Define letters in terms of decimal numbers as dictionary\n",
    "letters = {i: chr(i+97) for i in range(26)}\n",
    "letters[26] = ''"
   ]
  },
  {
   "cell_type": "code",
   "execution_count": 4,
   "metadata": {},
   "outputs": [],
   "source": [
    "# Define the marker color in hsv format\n",
    "blue_lower = np.array([100,60,60])\n",
    "blue_upper = np.array([140,255,255])"
   ]
  },
  {
   "cell_type": "code",
   "execution_count": 5,
   "metadata": {},
   "outputs": [],
   "source": [
    "# Define a new kernel\n",
    "kernel = np.ones((5,5), np.uint8)"
   ]
  },
  {
   "cell_type": "code",
   "execution_count": 6,
   "metadata": {},
   "outputs": [],
   "source": [
    "# Define a blackboard to write the letters\n",
    "black_board = np.zeros((480,640,3), dtype=np.uint8)\n",
    "alphabete = np.zeros((200,200,3), dtype=np.uint8)"
   ]
  },
  {
   "cell_type": "code",
   "execution_count": 7,
   "metadata": {},
   "outputs": [],
   "source": [
    "# Define dequens used for storing alphabet drawn on screen \n",
    "points = deque(maxlen=512)"
   ]
  },
  {
   "cell_type": "code",
   "execution_count": 11,
   "metadata": {},
   "outputs": [],
   "source": [
    "# Intalize the camera using opencv to capture\n",
    "cap = cv2.VideoCapture(0)\n",
    "prediction = 26     # Intialy the prediction display empty\n",
    "while True:\n",
    "    ret, frame=cap.read()\n",
    "\n",
    "    # Convert the frame to hsv and gray\n",
    "    hsv = cv2.cvtColor(frame, cv2.COLOR_BGR2HSV)\n",
    "    gray = cv2.cvtColor(frame, cv2.COLOR_BGR2GRAY) \n",
    "    \n",
    "    blue = cv2.inRange(hsv,blue_lower, blue_upper)\n",
    "    # Erosion\n",
    "    blue = cv2.erode(blue, kernel)\n",
    "    # opening\n",
    "    blue = cv2.morphologyEx(blue, cv2.MORPH_OPEN, kernel)\n",
    "    # Dilution\n",
    "    blue = cv2.dilate(blue, kernel)\n",
    "\n",
    "    # Find countors \n",
    "    conts, _ = cv2.findContours(blue, cv2.RETR_EXTERNAL, cv2.CHAIN_APPROX_SIMPLE)\n",
    "    center = None\n",
    "\n",
    "    # if countors find\n",
    "    if len(conts)>0:\n",
    "        cont = sorted(conts, key=cv2.contourArea, reverse=True)[0]\n",
    "        ((x,y), raduis)=cv2.minEnclosingCircle(cont)\n",
    "        cv2.circle(frame, (int(x), int(y),), int(raduis), (125,344,278), 2)\n",
    "        M = cv2.moments(cont)\n",
    "        center = (int(M['m10']/M['m00']), int(M['m01']/M['m00'])) \n",
    "        points.appendleft(center)\n",
    "    elif len(conts) == 0:\n",
    "        if len(points) != 0:\n",
    "            black_board_gray = cv2.cvtColor(black_board, cv2.COLOR_BGR2GRAY) \n",
    "            blur = cv2.medianBlur(black_board_gray, 15)\n",
    "            blur = cv2.GaussianBlur(blur, (5,5), 0)\n",
    "            thresh = cv2.threshold(blur, 0, 255, cv2.THRESH_BINARY+cv2.THRESH_OTSU)[1]\n",
    "\n",
    "            black_board_conts = cv2.findContours(thresh, cv2.RETR_TREE, cv2.CHAIN_APPROX_NONE)[0]\n",
    "            if len(black_board_conts)>0:\n",
    "                cont = sorted(black_board_conts, key= cv2.contourArea, reverse=True)[0]\n",
    "                if cv2.contourArea(cont)>1000:\n",
    "                    x,y,w,h = cv2.boundingRect(cont)\n",
    "                    alphabete = black_board_gray[y-10:y+h+10, x-10:x+w+10]\n",
    "                    try:\n",
    "                        img = cv2.resize(alphabete, (28,28))\n",
    "                    except cv2.error as e:\n",
    "                        continue\n",
    "                    img = np.array(img)\n",
    "                    img = img.astype('float32')/255.0\n",
    "                    prediction = model.predict(img.reshape(1,28,28))[0]\n",
    "\n",
    "                    prediction = np.argmax(prediction) # prediction in form of percentage\n",
    "            \n",
    "            # Clear the deque point and the blackborad \n",
    "            points = deque(maxlen=512)\n",
    "            black_board = np.zeros((480,640,3), dtype=np.uint8)\n",
    "    # Pass the detected points with lines \n",
    "    for i in range(1, len(points)):\n",
    "        if points[i-1] is None or points[i] is None:\n",
    "            continue\n",
    "        cv2.line(frame, points[i-1], points[i], (0,0,0), 2)\n",
    "        cv2.line(black_board, points[i-1], points[i], (255,255,255), 6)\n",
    "    # Get the dimensions of the frame\n",
    "    height, width, _ = frame.shape\n",
    "    # Define the position of the text\n",
    "    x = 350-int(width / 2) # Top-Left aligned \n",
    "    y = 30  # Top of the window\n",
    "    cv2.putText(frame, \"Predicted Alphabete: \" + str(letters[int(prediction)]), (x, y), cv2.FONT_HERSHEY_SIMPLEX, 0.8, (0,255,0), 2)\n",
    "\n",
    "\n",
    "    cv2.imshow('Alphabete recognition', frame)\n",
    "    if cv2.waitKey(1) & 0xFF == ord('q') or cv2.waitKey(1) == 27:   # Press q for exiting from the webcam\n",
    "        break\n",
    "cap.release()\n",
    "cv2.destroyAllWindows()"
   ]
  }
 ],
 "metadata": {
  "kernelspec": {
   "display_name": "venv",
   "language": "python",
   "name": "python3"
  },
  "language_info": {
   "codemirror_mode": {
    "name": "ipython",
    "version": 3
   },
   "file_extension": ".py",
   "mimetype": "text/x-python",
   "name": "python",
   "nbconvert_exporter": "python",
   "pygments_lexer": "ipython3",
   "version": "3.9.10"
  },
  "orig_nbformat": 4,
  "vscode": {
   "interpreter": {
    "hash": "611aef0a32eb14a137a5db1f43be18e431e408e307a461aadc09e7e7da3eab10"
   }
  }
 },
 "nbformat": 4,
 "nbformat_minor": 2
}
