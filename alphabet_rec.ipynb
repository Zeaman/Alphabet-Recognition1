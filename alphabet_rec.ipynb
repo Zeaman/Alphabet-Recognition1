{
 "cells": [
  {
   "cell_type": "code",
   "execution_count": 1,
   "metadata": {},
   "outputs": [],
   "source": [
    "\"\"\"\n",
    "Install all dependency libraries\n",
    "pip install python-mnist\n",
    "pip install numpy\n",
    "pip install scikit-learn\n",
    "pip install tensorflow\n",
    "\n",
    "\"\"\"\n",
    "# import installed dependency libararies\n",
    "import numpy\n",
    "from mnist import MNIST\n",
    "from keras.utils import np_utils\n",
    "from keras.models import Sequential\n",
    "from keras.callbacks import ModelCheckpoint\n",
    "from keras.layers import Dense, Dropout, Flatten\n",
    "from sklearn.model_selection import train_test_split"
   ]
  },
  {
   "cell_type": "code",
   "execution_count": 2,
   "metadata": {},
   "outputs": [
    {
     "name": "stdout",
     "output_type": "stream",
     "text": [
      "(124800, 784)\n",
      "(124800,)\n"
     ]
    }
   ],
   "source": [
    "# Load the dataset\n",
    "dataset = MNIST(path='D:/AI/alphabet_recognition/dataset', return_type='numpy')\n",
    "dataset.select_emnist('letters')\n",
    "X, y = dataset.load_training()\n",
    "print(X.shape)\n",
    "print(y.shape)\n",
    "# Reshape the dataset to 28x28 for X and 1 for y\n",
    "X = X.reshape(X.shape[0], 28, 28)\n",
    "y = y.reshape(y.shape[0], 1)\n",
    "y = y - 1"
   ]
  },
  {
   "cell_type": "code",
   "execution_count": 3,
   "metadata": {},
   "outputs": [],
   "source": [
    "# Prepare the dataset\n",
    "X_train, X_test, y_train, y_test = train_test_split(X, y, test_size=0.2, random_state=50)\n",
    "\n",
    "# Map the dataset of 0-255 to 0-1\n",
    "X_train = X_train.astype('float32') / 255.0\n",
    "X_test = X_test.astype('float32') / 255.0\n",
    "\n",
    "# Convert the integer to one hot vector(binary class matrix)\n",
    "y_train = np_utils.to_categorical(y_train, num_classes=26)  # 26 classes since we have 26 letters\n",
    "y_test = np_utils.to_categorical(y_test, num_classes=26)  # 26 classes since we have 26 letters"
   ]
  },
  {
   "cell_type": "code",
   "execution_count": 4,
   "metadata": {},
   "outputs": [
    {
     "name": "stdout",
     "output_type": "stream",
     "text": [
      "Model: \"sequential\"\n",
      "_________________________________________________________________\n",
      " Layer (type)                Output Shape              Param #   \n",
      "=================================================================\n",
      " flatten (Flatten)           (None, 784)               0         \n",
      "                                                                 \n",
      " dense (Dense)               (None, 512)               401920    \n",
      "                                                                 \n",
      " dropout (Dropout)           (None, 512)               0         \n",
      "                                                                 \n",
      " dense_1 (Dense)             (None, 512)               262656    \n",
      "                                                                 \n",
      " dropout_1 (Dropout)         (None, 512)               0         \n",
      "                                                                 \n",
      " dense_2 (Dense)             (None, 26)                13338     \n",
      "                                                                 \n",
      "=================================================================\n",
      "Total params: 677,914\n",
      "Trainable params: 677,914\n",
      "Non-trainable params: 0\n",
      "_________________________________________________________________\n"
     ]
    }
   ],
   "source": [
    "# Define the CNN model\n",
    "model = Sequential()\n",
    "model.add(Flatten(input_shape=(28, 28)))  # change the 2D input(28,28) array to 1D (28x28 =784) input array\n",
    "model.add(Dense(512, activation='relu'))\n",
    "model.add(Dropout(0.2))  # For not overfitting when train\n",
    "model.add(Dense(512, activation='relu'))\n",
    "model.add(Dropout(0.2))  # For not overfitting when train\n",
    "model.add(Dense(26, activation='softmax'))  # For 26 letters, the output layer must have 26 neuron\n",
    "model.summary()  # Print the summary of the model"
   ]
  },
  {
   "cell_type": "code",
   "execution_count": 5,
   "metadata": {},
   "outputs": [],
   "source": [
    "# Compile the model\n",
    "model.compile(loss='categorical_crossentropy', optimizer='adam', metrics=['accuracy'])"
   ]
  },
  {
   "cell_type": "code",
   "execution_count": 6,
   "metadata": {},
   "outputs": [
    {
     "name": "stdout",
     "output_type": "stream",
     "text": [
      "The test accuracy before training is: 3.621795028448105\n"
     ]
    }
   ],
   "source": [
    "# Calculate the accuracy of the model before training\n",
    "score = model.evaluate(X_test, y_test, verbose=0)\n",
    "accuracy_before = 100*score[1]\n",
    "print(\"The test accuracy before training is:\", accuracy_before)"
   ]
  },
  {
   "cell_type": "code",
   "execution_count": 7,
   "metadata": {},
   "outputs": [],
   "source": [
    "# Save the model after training using callback\n",
    "check_pointer = ModelCheckpoint(filepath='D:/AI/alphabet_recognition/best_model.h5', verbose=1, save_best_only=True)"
   ]
  },
  {
   "cell_type": "code",
   "execution_count": 8,
   "metadata": {},
   "outputs": [
    {
     "name": "stdout",
     "output_type": "stream",
     "text": [
      "Epoch 1/15\n",
      "624/624 [==============================] - ETA: 0s - loss: 0.8039 - accuracy: 0.7578\n",
      "Epoch 1: val_loss improved from inf to 0.43334, saving model to D:/AI/alphabet_recognition\\best_model.h5\n",
      "624/624 [==============================] - 31s 44ms/step - loss: 0.8039 - accuracy: 0.7578 - val_loss: 0.4333 - val_accuracy: 0.8649\n",
      "Epoch 2/15\n",
      "623/624 [============================>.] - ETA: 0s - loss: 0.4237 - accuracy: 0.8638\n",
      "Epoch 2: val_loss improved from 0.43334 to 0.34062, saving model to D:/AI/alphabet_recognition\\best_model.h5\n",
      "624/624 [==============================] - 29s 46ms/step - loss: 0.4238 - accuracy: 0.8638 - val_loss: 0.3406 - val_accuracy: 0.8920\n",
      "Epoch 3/15\n",
      "624/624 [==============================] - ETA: 0s - loss: 0.3414 - accuracy: 0.8881\n",
      "Epoch 3: val_loss improved from 0.34062 to 0.30609, saving model to D:/AI/alphabet_recognition\\best_model.h5\n",
      "624/624 [==============================] - 32s 52ms/step - loss: 0.3414 - accuracy: 0.8881 - val_loss: 0.3061 - val_accuracy: 0.9032\n",
      "Epoch 4/15\n",
      "624/624 [==============================] - ETA: 0s - loss: 0.2966 - accuracy: 0.9012\n",
      "Epoch 4: val_loss improved from 0.30609 to 0.29151, saving model to D:/AI/alphabet_recognition\\best_model.h5\n",
      "624/624 [==============================] - 29s 46ms/step - loss: 0.2966 - accuracy: 0.9012 - val_loss: 0.2915 - val_accuracy: 0.9048\n",
      "Epoch 5/15\n",
      "623/624 [============================>.] - ETA: 0s - loss: 0.2637 - accuracy: 0.9100\n",
      "Epoch 5: val_loss improved from 0.29151 to 0.28257, saving model to D:/AI/alphabet_recognition\\best_model.h5\n",
      "624/624 [==============================] - 28s 45ms/step - loss: 0.2637 - accuracy: 0.9101 - val_loss: 0.2826 - val_accuracy: 0.9077\n",
      "Epoch 6/15\n",
      "623/624 [============================>.] - ETA: 0s - loss: 0.2413 - accuracy: 0.9160\n",
      "Epoch 6: val_loss did not improve from 0.28257\n",
      "624/624 [==============================] - 28s 45ms/step - loss: 0.2415 - accuracy: 0.9159 - val_loss: 0.2900 - val_accuracy: 0.9076\n",
      "Epoch 7/15\n",
      "624/624 [==============================] - ETA: 0s - loss: 0.2237 - accuracy: 0.9217\n",
      "Epoch 7: val_loss did not improve from 0.28257\n",
      "624/624 [==============================] - 28s 45ms/step - loss: 0.2237 - accuracy: 0.9217 - val_loss: 0.2890 - val_accuracy: 0.9087\n",
      "Epoch 8/15\n",
      "623/624 [============================>.] - ETA: 0s - loss: 0.2077 - accuracy: 0.9250\n",
      "Epoch 8: val_loss did not improve from 0.28257\n",
      "624/624 [==============================] - 31s 49ms/step - loss: 0.2076 - accuracy: 0.9250 - val_loss: 0.2855 - val_accuracy: 0.9125\n",
      "Epoch 9/15\n",
      "624/624 [==============================] - ETA: 0s - loss: 0.1934 - accuracy: 0.9300\n",
      "Epoch 9: val_loss did not improve from 0.28257\n",
      "624/624 [==============================] - 19s 30ms/step - loss: 0.1934 - accuracy: 0.9300 - val_loss: 0.2854 - val_accuracy: 0.9115\n",
      "Epoch 10/15\n",
      "623/624 [============================>.] - ETA: 0s - loss: 0.1802 - accuracy: 0.9340\n",
      "Epoch 10: val_loss did not improve from 0.28257\n",
      "624/624 [==============================] - 18s 30ms/step - loss: 0.1803 - accuracy: 0.9340 - val_loss: 0.3015 - val_accuracy: 0.9087\n",
      "Epoch 11/15\n",
      "623/624 [============================>.] - ETA: 0s - loss: 0.1722 - accuracy: 0.9361\n",
      "Epoch 11: val_loss did not improve from 0.28257\n",
      "624/624 [==============================] - 22s 35ms/step - loss: 0.1723 - accuracy: 0.9360 - val_loss: 0.2837 - val_accuracy: 0.9150\n",
      "Epoch 12/15\n",
      "623/624 [============================>.] - ETA: 0s - loss: 0.1648 - accuracy: 0.9384\n",
      "Epoch 12: val_loss did not improve from 0.28257\n",
      "624/624 [==============================] - 26s 41ms/step - loss: 0.1648 - accuracy: 0.9384 - val_loss: 0.2890 - val_accuracy: 0.9128\n",
      "Epoch 13/15\n",
      "624/624 [==============================] - ETA: 0s - loss: 0.1567 - accuracy: 0.9412\n",
      "Epoch 13: val_loss did not improve from 0.28257\n",
      "624/624 [==============================] - 26s 42ms/step - loss: 0.1567 - accuracy: 0.9412 - val_loss: 0.2928 - val_accuracy: 0.9150\n",
      "Epoch 14/15\n",
      "624/624 [==============================] - ETA: 0s - loss: 0.1498 - accuracy: 0.9440\n",
      "Epoch 14: val_loss did not improve from 0.28257\n",
      "624/624 [==============================] - 27s 43ms/step - loss: 0.1498 - accuracy: 0.9440 - val_loss: 0.2957 - val_accuracy: 0.9173\n",
      "Epoch 15/15\n",
      "624/624 [==============================] - ETA: 0s - loss: 0.1469 - accuracy: 0.9437\n",
      "Epoch 15: val_loss did not improve from 0.28257\n",
      "624/624 [==============================] - 22s 35ms/step - loss: 0.1469 - accuracy: 0.9437 - val_loss: 0.2972 - val_accuracy: 0.9163\n"
     ]
    },
    {
     "data": {
      "text/plain": [
       "<keras.callbacks.History at 0x1a8d49965e0>"
      ]
     },
     "execution_count": 8,
     "metadata": {},
     "output_type": "execute_result"
    }
   ],
   "source": [
    "# Train the model using fit\n",
    "model.fit(X_train, y_train, batch_size=128, epochs=15, validation_split=0.2, callbacks=[check_pointer], verbose=1, shuffle=True)"
   ]
  },
  {
   "cell_type": "code",
   "execution_count": 12,
   "metadata": {},
   "outputs": [],
   "source": [
    "# Load the model (best_model.h5)\n",
    "model.load_weights('D:/AI/alphabet_recognition/best_model.h5')"
   ]
  },
  {
   "cell_type": "code",
   "execution_count": 13,
   "metadata": {},
   "outputs": [
    {
     "name": "stdout",
     "output_type": "stream",
     "text": [
      "The test accuracy after training is: 90.85336327552795\n"
     ]
    }
   ],
   "source": [
    "# Calculate the accuracy of the model after training\n",
    "score = model.evaluate(X_test, y_test, verbose=0)\n",
    "accuracy_after = 100*score[1]\n",
    "print(\"The test accuracy after training is:\", accuracy_after)"
   ]
  },
  {
   "attachments": {},
   "cell_type": "markdown",
   "metadata": {},
   "source": [
    "...End..."
   ]
  }
 ],
 "metadata": {
  "kernelspec": {
   "display_name": "venv",
   "language": "python",
   "name": "python3"
  },
  "language_info": {
   "codemirror_mode": {
    "name": "ipython",
    "version": 3
   },
   "file_extension": ".py",
   "mimetype": "text/x-python",
   "name": "python",
   "nbconvert_exporter": "python",
   "pygments_lexer": "ipython3",
   "version": "3.9.10"
  },
  "orig_nbformat": 4,
  "vscode": {
   "interpreter": {
    "hash": "611aef0a32eb14a137a5db1f43be18e431e408e307a461aadc09e7e7da3eab10"
   }
  }
 },
 "nbformat": 4,
 "nbformat_minor": 2
}
