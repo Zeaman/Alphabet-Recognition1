{
 "cells": [
  {
   "cell_type": "code",
   "execution_count": 2,
   "metadata": {},
   "outputs": [],
   "source": [
    "\"\"\"\n",
    "Install all dependency libraries\n",
    "pip install python-mnist\n",
    "pip install numpy\n",
    "pip install scikit-learn\n",
    "pip install tensorflow\n",
    "\n",
    "\"\"\"\n",
    "# import installed dependency libararies\n",
    "import numpy\n",
    "from mnist import MNIST\n",
    "from keras.utils import np_utils\n",
    "from keras.models import Sequential\n",
    "from keras.callbacks import ModelCheckpoint\n",
    "from keras.layers import Dense, Dropout, Flatten\n",
    "from sklearn.model_selection import train_test_split"
   ]
  },
  {
   "cell_type": "code",
   "execution_count": 3,
   "metadata": {},
   "outputs": [
    {
     "name": "stdout",
     "output_type": "stream",
     "text": [
      "(124800, 784)\n",
      "(124800,)\n"
     ]
    }
   ],
   "source": [
    "# Load the dataset\n",
    "dataset = MNIST(path='D:/AI/alphabet_recognition/dataset', return_type='numpy')\n",
    "dataset.select_emnist('letters')\n",
    "X, y = dataset.load_training()\n",
    "print(X.shape)\n",
    "print(y.shape)\n",
    "# Reshape the dataset to 28x28 for X and 1 for y\n",
    "X = X.reshape(X.shape[0], 28, 28)\n",
    "y = y.reshape(y.shape[0], 1)\n",
    "y = y - 1"
   ]
  },
  {
   "cell_type": "code",
   "execution_count": 4,
   "metadata": {},
   "outputs": [],
   "source": [
    "# Split the dataset as training and testing \n",
    "X_train, X_test, y_train, y_test = train_test_split(X, y, test_size=0.2, random_state=50)\n",
    "\n",
    "# Map the dataset of 0-255 to 0-1\n",
    "X_train = X_train.astype('float32') / 255.0\n",
    "X_test = X_test.astype('float32') / 255.0\n",
    "\n",
    "# Convert the integer to one hot vector(binary class matrix)\n",
    "y_train = np_utils.to_categorical(y_train, num_classes=26)  # 26 classes since we have 26 letters\n",
    "y_test = np_utils.to_categorical(y_test, num_classes=26)  # 26 classes since we have 26 letters"
   ]
  },
  {
   "cell_type": "code",
   "execution_count": 5,
   "metadata": {},
   "outputs": [
    {
     "name": "stdout",
     "output_type": "stream",
     "text": [
      "Model: \"sequential\"\n",
      "_________________________________________________________________\n",
      " Layer (type)                Output Shape              Param #   \n",
      "=================================================================\n",
      " flatten (Flatten)           (None, 784)               0         \n",
      "                                                                 \n",
      " dense (Dense)               (None, 512)               401920    \n",
      "                                                                 \n",
      " dropout (Dropout)           (None, 512)               0         \n",
      "                                                                 \n",
      " dense_1 (Dense)             (None, 512)               262656    \n",
      "                                                                 \n",
      " dropout_1 (Dropout)         (None, 512)               0         \n",
      "                                                                 \n",
      " dense_2 (Dense)             (None, 26)                13338     \n",
      "                                                                 \n",
      "=================================================================\n",
      "Total params: 677,914\n",
      "Trainable params: 677,914\n",
      "Non-trainable params: 0\n",
      "_________________________________________________________________\n"
     ]
    }
   ],
   "source": [
    "# Define the CNN model\n",
    "model = Sequential()\n",
    "model.add(Flatten(input_shape=(28, 28)))  # change the 2D input(28,28) array to 1D (28x28 =784) input array\n",
    "model.add(Dense(512, activation='relu'))\n",
    "model.add(Dropout(0.2))  # For not overfitting when train\n",
    "model.add(Dense(512, activation='relu'))\n",
    "model.add(Dropout(0.2))  # For not overfitting when train\n",
    "model.add(Dense(26, activation='softmax'))  # For 26 letters, the output layer must have 26 neuron\n",
    "model.summary()  # Print the summary of the model"
   ]
  },
  {
   "cell_type": "code",
   "execution_count": 6,
   "metadata": {},
   "outputs": [],
   "source": [
    "# Compile the model\n",
    "model.compile(loss='categorical_crossentropy', optimizer='adam', metrics=['accuracy'])"
   ]
  },
  {
   "cell_type": "code",
   "execution_count": 7,
   "metadata": {},
   "outputs": [
    {
     "name": "stdout",
     "output_type": "stream",
     "text": [
      "The test accuracy before training is: 6.025641039013863\n"
     ]
    }
   ],
   "source": [
    "# Calculate the accuracy of the model before training\n",
    "score = model.evaluate(X_test, y_test, verbose=0)\n",
    "accuracy_before = 100*score[1]\n",
    "print(\"The test accuracy before training is:\", accuracy_before)"
   ]
  },
  {
   "cell_type": "code",
   "execution_count": 8,
   "metadata": {},
   "outputs": [],
   "source": [
    "# Save the model after training using callback\n",
    "check_pointer = ModelCheckpoint(filepath='D:/AI/alphabet_recognition/best_model.h5', verbose=1, save_best_only=True)"
   ]
  },
  {
   "cell_type": "code",
   "execution_count": 9,
   "metadata": {},
   "outputs": [
    {
     "name": "stdout",
     "output_type": "stream",
     "text": [
      "Epoch 1/25\n",
      "624/624 [==============================] - ETA: 0s - loss: 0.7905 - accuracy: 0.7603\n",
      "Epoch 1: val_loss improved from inf to 0.44213, saving model to D:/AI/alphabet_recognition\\best_model.h5\n",
      "624/624 [==============================] - 31s 44ms/step - loss: 0.7905 - accuracy: 0.7603 - val_loss: 0.4421 - val_accuracy: 0.8645\n",
      "Epoch 2/25\n",
      "623/624 [============================>.] - ETA: 0s - loss: 0.4224 - accuracy: 0.8647\n",
      "Epoch 2: val_loss improved from 0.44213 to 0.35738, saving model to D:/AI/alphabet_recognition\\best_model.h5\n",
      "624/624 [==============================] - 20s 31ms/step - loss: 0.4222 - accuracy: 0.8647 - val_loss: 0.3574 - val_accuracy: 0.8855\n",
      "Epoch 3/25\n",
      "623/624 [============================>.] - ETA: 0s - loss: 0.3407 - accuracy: 0.8886\n",
      "Epoch 3: val_loss improved from 0.35738 to 0.30663, saving model to D:/AI/alphabet_recognition\\best_model.h5\n",
      "624/624 [==============================] - 21s 34ms/step - loss: 0.3407 - accuracy: 0.8887 - val_loss: 0.3066 - val_accuracy: 0.9025\n",
      "Epoch 4/25\n",
      "622/624 [============================>.] - ETA: 0s - loss: 0.2947 - accuracy: 0.9019\n",
      "Epoch 4: val_loss improved from 0.30663 to 0.30560, saving model to D:/AI/alphabet_recognition\\best_model.h5\n",
      "624/624 [==============================] - 20s 33ms/step - loss: 0.2946 - accuracy: 0.9020 - val_loss: 0.3056 - val_accuracy: 0.9032\n",
      "Epoch 5/25\n",
      "624/624 [==============================] - ETA: 0s - loss: 0.2651 - accuracy: 0.9101\n",
      "Epoch 5: val_loss improved from 0.30560 to 0.29131, saving model to D:/AI/alphabet_recognition\\best_model.h5\n",
      "624/624 [==============================] - 30s 49ms/step - loss: 0.2651 - accuracy: 0.9101 - val_loss: 0.2913 - val_accuracy: 0.9074\n",
      "Epoch 6/25\n",
      "623/624 [============================>.] - ETA: 0s - loss: 0.2413 - accuracy: 0.9159\n",
      "Epoch 6: val_loss improved from 0.29131 to 0.27922, saving model to D:/AI/alphabet_recognition\\best_model.h5\n",
      "624/624 [==============================] - 28s 45ms/step - loss: 0.2413 - accuracy: 0.9160 - val_loss: 0.2792 - val_accuracy: 0.9110\n",
      "Epoch 7/25\n",
      "623/624 [============================>.] - ETA: 0s - loss: 0.2219 - accuracy: 0.9221\n",
      "Epoch 7: val_loss did not improve from 0.27922\n",
      "624/624 [==============================] - 28s 45ms/step - loss: 0.2220 - accuracy: 0.9220 - val_loss: 0.2837 - val_accuracy: 0.9123\n",
      "Epoch 8/25\n",
      "624/624 [==============================] - ETA: 0s - loss: 0.2062 - accuracy: 0.9261\n",
      "Epoch 8: val_loss improved from 0.27922 to 0.27165, saving model to D:/AI/alphabet_recognition\\best_model.h5\n",
      "624/624 [==============================] - 25s 41ms/step - loss: 0.2062 - accuracy: 0.9261 - val_loss: 0.2717 - val_accuracy: 0.9166\n",
      "Epoch 9/25\n",
      "624/624 [==============================] - ETA: 0s - loss: 0.1923 - accuracy: 0.9306\n",
      "Epoch 9: val_loss did not improve from 0.27165\n",
      "624/624 [==============================] - 26s 42ms/step - loss: 0.1923 - accuracy: 0.9306 - val_loss: 0.2852 - val_accuracy: 0.9115\n",
      "Epoch 10/25\n",
      "623/624 [============================>.] - ETA: 0s - loss: 0.1793 - accuracy: 0.9349\n",
      "Epoch 10: val_loss did not improve from 0.27165\n",
      "624/624 [==============================] - 29s 47ms/step - loss: 0.1793 - accuracy: 0.9349 - val_loss: 0.2781 - val_accuracy: 0.9160\n",
      "Epoch 11/25\n",
      "623/624 [============================>.] - ETA: 0s - loss: 0.1713 - accuracy: 0.9368\n",
      "Epoch 11: val_loss did not improve from 0.27165\n",
      "624/624 [==============================] - 43s 69ms/step - loss: 0.1711 - accuracy: 0.9368 - val_loss: 0.2947 - val_accuracy: 0.9139\n",
      "Epoch 12/25\n",
      "623/624 [============================>.] - ETA: 0s - loss: 0.1643 - accuracy: 0.9381\n",
      "Epoch 12: val_loss did not improve from 0.27165\n",
      "624/624 [==============================] - 34s 55ms/step - loss: 0.1643 - accuracy: 0.9381 - val_loss: 0.2960 - val_accuracy: 0.9125\n",
      "Epoch 13/25\n",
      "624/624 [==============================] - ETA: 0s - loss: 0.1578 - accuracy: 0.9405\n",
      "Epoch 13: val_loss did not improve from 0.27165\n",
      "624/624 [==============================] - 33s 52ms/step - loss: 0.1578 - accuracy: 0.9405 - val_loss: 0.2847 - val_accuracy: 0.9169\n",
      "Epoch 14/25\n",
      "624/624 [==============================] - ETA: 0s - loss: 0.1520 - accuracy: 0.9417\n",
      "Epoch 14: val_loss did not improve from 0.27165\n",
      "624/624 [==============================] - 31s 49ms/step - loss: 0.1520 - accuracy: 0.9417 - val_loss: 0.2870 - val_accuracy: 0.9163\n",
      "Epoch 15/25\n",
      "624/624 [==============================] - ETA: 0s - loss: 0.1439 - accuracy: 0.9452\n",
      "Epoch 15: val_loss did not improve from 0.27165\n",
      "624/624 [==============================] - 31s 50ms/step - loss: 0.1439 - accuracy: 0.9452 - val_loss: 0.3008 - val_accuracy: 0.9147\n",
      "Epoch 16/25\n",
      "623/624 [============================>.] - ETA: 0s - loss: 0.1407 - accuracy: 0.9463\n",
      "Epoch 16: val_loss did not improve from 0.27165\n",
      "624/624 [==============================] - 27s 42ms/step - loss: 0.1408 - accuracy: 0.9463 - val_loss: 0.2987 - val_accuracy: 0.9153\n",
      "Epoch 17/25\n",
      "624/624 [==============================] - ETA: 0s - loss: 0.1399 - accuracy: 0.9469\n",
      "Epoch 17: val_loss did not improve from 0.27165\n",
      "624/624 [==============================] - 25s 40ms/step - loss: 0.1399 - accuracy: 0.9469 - val_loss: 0.3087 - val_accuracy: 0.9141\n",
      "Epoch 18/25\n",
      "624/624 [==============================] - ETA: 0s - loss: 0.1335 - accuracy: 0.9480\n",
      "Epoch 18: val_loss did not improve from 0.27165\n",
      "624/624 [==============================] - 24s 39ms/step - loss: 0.1335 - accuracy: 0.9480 - val_loss: 0.3153 - val_accuracy: 0.9157\n",
      "Epoch 19/25\n",
      "624/624 [==============================] - ETA: 0s - loss: 0.1280 - accuracy: 0.9505\n",
      "Epoch 19: val_loss did not improve from 0.27165\n",
      "624/624 [==============================] - 30s 48ms/step - loss: 0.1280 - accuracy: 0.9505 - val_loss: 0.3149 - val_accuracy: 0.9158\n",
      "Epoch 20/25\n",
      "623/624 [============================>.] - ETA: 0s - loss: 0.1263 - accuracy: 0.9514\n",
      "Epoch 20: val_loss did not improve from 0.27165\n",
      "624/624 [==============================] - 27s 43ms/step - loss: 0.1262 - accuracy: 0.9515 - val_loss: 0.3180 - val_accuracy: 0.9161\n",
      "Epoch 21/25\n",
      "624/624 [==============================] - ETA: 0s - loss: 0.1238 - accuracy: 0.9519\n",
      "Epoch 21: val_loss did not improve from 0.27165\n",
      "624/624 [==============================] - 28s 45ms/step - loss: 0.1238 - accuracy: 0.9519 - val_loss: 0.3258 - val_accuracy: 0.9156\n",
      "Epoch 22/25\n",
      "623/624 [============================>.] - ETA: 0s - loss: 0.1200 - accuracy: 0.9530\n",
      "Epoch 22: val_loss did not improve from 0.27165\n",
      "624/624 [==============================] - 34s 54ms/step - loss: 0.1201 - accuracy: 0.9530 - val_loss: 0.3293 - val_accuracy: 0.9170\n",
      "Epoch 23/25\n",
      "623/624 [============================>.] - ETA: 0s - loss: 0.1220 - accuracy: 0.9522\n",
      "Epoch 23: val_loss did not improve from 0.27165\n",
      "624/624 [==============================] - 43s 68ms/step - loss: 0.1221 - accuracy: 0.9522 - val_loss: 0.3313 - val_accuracy: 0.9153\n",
      "Epoch 24/25\n",
      "624/624 [==============================] - ETA: 0s - loss: 0.1166 - accuracy: 0.9543\n",
      "Epoch 24: val_loss did not improve from 0.27165\n",
      "624/624 [==============================] - 47s 76ms/step - loss: 0.1166 - accuracy: 0.9543 - val_loss: 0.3175 - val_accuracy: 0.9175\n",
      "Epoch 25/25\n",
      "623/624 [============================>.] - ETA: 0s - loss: 0.1137 - accuracy: 0.9556\n",
      "Epoch 25: val_loss did not improve from 0.27165\n",
      "624/624 [==============================] - 37s 59ms/step - loss: 0.1137 - accuracy: 0.9556 - val_loss: 0.3294 - val_accuracy: 0.9178\n"
     ]
    },
    {
     "data": {
      "text/plain": [
       "<keras.callbacks.History at 0x1aa39015730>"
      ]
     },
     "execution_count": 9,
     "metadata": {},
     "output_type": "execute_result"
    }
   ],
   "source": [
    "# Train the model using fit\n",
    "model.fit(X_train, y_train, batch_size=128, epochs=25, validation_split=0.2, callbacks=[check_pointer], verbose=1, shuffle=True)"
   ]
  },
  {
   "cell_type": "code",
   "execution_count": 12,
   "metadata": {},
   "outputs": [],
   "source": [
    "# Load the model (best_model.h5)\n",
    "model.load_weights('D:/AI/alphabet_recognition/best_model.h5')"
   ]
  },
  {
   "cell_type": "code",
   "execution_count": 13,
   "metadata": {},
   "outputs": [
    {
     "name": "stdout",
     "output_type": "stream",
     "text": [
      "The test accuracy after training is: 91.37820601463318\n"
     ]
    }
   ],
   "source": [
    "# Calculate the accuracy of the model after training\n",
    "score = model.evaluate(X_test, y_test, verbose=0)\n",
    "accuracy_after = 100*score[1]\n",
    "print(\"The test accuracy after training is:\", accuracy_after)"
   ]
  },
  {
   "attachments": {},
   "cell_type": "markdown",
   "metadata": {},
   "source": [
    "...End..."
   ]
  }
 ],
 "metadata": {
  "kernelspec": {
   "display_name": "venv",
   "language": "python",
   "name": "python3"
  },
  "language_info": {
   "codemirror_mode": {
    "name": "ipython",
    "version": 3
   },
   "file_extension": ".py",
   "mimetype": "text/x-python",
   "name": "python",
   "nbconvert_exporter": "python",
   "pygments_lexer": "ipython3",
   "version": "3.9.10"
  },
  "orig_nbformat": 4,
  "vscode": {
   "interpreter": {
    "hash": "611aef0a32eb14a137a5db1f43be18e431e408e307a461aadc09e7e7da3eab10"
   }
  }
 },
 "nbformat": 4,
 "nbformat_minor": 2
}
